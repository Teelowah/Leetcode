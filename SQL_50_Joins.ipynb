{
 "cells": [
  {
   "cell_type": "markdown",
   "metadata": {},
   "source": [
    "# SQL 50 Select LeetCode Submissions"
   ]
  },
  {
   "cell_type": "markdown",
   "metadata": {},
   "source": [
    "### Replace Employees ID\n",
    "\n",
    "Joins tables using ID as key to return name from employees table and unique id from EmployeeUni table."
   ]
  },
  {
   "cell_type": "code",
   "execution_count": null,
   "metadata": {
    "vscode": {
     "languageId": "sql"
    }
   },
   "outputs": [],
   "source": [
    "Select u.unique_id, e.name\n",
    "From Employees as e\n",
    "Left Join EmployeeUni as u\n",
    "ON e.id = u.id; "
   ]
  },
  {
   "cell_type": "markdown",
   "metadata": {},
   "source": [
    "### Product Sales Analysis I\n",
    "\n",
    "Returns the product_name, year and price using the product_id as the key."
   ]
  },
  {
   "cell_type": "code",
   "execution_count": null,
   "metadata": {
    "vscode": {
     "languageId": "sql"
    }
   },
   "outputs": [],
   "source": [
    "Select product_name, year, price\n",
    "From Sales as s\n",
    "Left Join Product as p\n",
    "On s.product_id = p.product_id;"
   ]
  },
  {
   "cell_type": "markdown",
   "metadata": {},
   "source": [
    "### Customer Who visited but did not make any transactions\n",
    "\n",
    "Where statement: Filters the users who made no transactions\n",
    "Select + group statement: Gets number of times visited for each customer"
   ]
  },
  {
   "cell_type": "code",
   "execution_count": null,
   "metadata": {
    "vscode": {
     "languageId": "sql"
    }
   },
   "outputs": [],
   "source": [
    "Select v.customer_id, COUNT(Distinct v.visit_id) as count_no_trans\n",
    "From Visits v\n",
    "Left Join Transactions t On v.visit_id = t.visit_id\n",
    "Where t.transaction_id is NULL\n",
    "Group by v.customer_id;"
   ]
  }
 ],
 "metadata": {
  "language_info": {
   "name": "python"
  }
 },
 "nbformat": 4,
 "nbformat_minor": 2
}
