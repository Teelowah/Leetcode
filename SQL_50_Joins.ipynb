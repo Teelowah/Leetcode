{
 "cells": [
  {
   "cell_type": "markdown",
   "metadata": {},
   "source": [
    "# SQL 50 Select LeetCode Submissions"
   ]
  },
  {
   "cell_type": "markdown",
   "metadata": {},
   "source": [
    "### Replace Employees ID\n",
    "\n",
    "Joins tables using ID as key to return name from employees table and unique id from EmployeeUni table."
   ]
  },
  {
   "cell_type": "code",
   "execution_count": null,
   "metadata": {
    "vscode": {
     "languageId": "sql"
    }
   },
   "outputs": [],
   "source": [
    "Select u.unique_id, e.name\n",
    "From Employees as e\n",
    "Left Join EmployeeUni as u\n",
    "ON e.id = u.id; "
   ]
  },
  {
   "cell_type": "markdown",
   "metadata": {},
   "source": [
    "### Recyclable and Low Fat Products\n",
    "\n",
    "Returns product_id column from Products table where values in low_fats and recyclable have 'yes' values."
   ]
  },
  {
   "cell_type": "code",
   "execution_count": null,
   "metadata": {
    "vscode": {
     "languageId": "sql"
    }
   },
   "outputs": [],
   "source": [
    "\n",
    "Select product_id From Products\n",
    "Where low_fats='Y' && recyclable='Y';"
   ]
  }
 ],
 "metadata": {
  "language_info": {
   "name": "python"
  }
 },
 "nbformat": 4,
 "nbformat_minor": 2
}
