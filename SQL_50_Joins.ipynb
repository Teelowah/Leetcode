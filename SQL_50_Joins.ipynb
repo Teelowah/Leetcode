{
 "cells": [
  {
   "cell_type": "markdown",
   "metadata": {},
   "source": [
    "# SQL 50 Select LeetCode Submissions"
   ]
  },
  {
   "cell_type": "markdown",
   "metadata": {},
   "source": [
    "### Article views\n",
    "\n",
    "Finds rows where author viewed own article, removes duplicates and names it as id\n"
   ]
  },
  {
   "cell_type": "code",
   "execution_count": null,
   "metadata": {
    "vscode": {
     "languageId": "sql"
    }
   },
   "outputs": [],
   "source": [
    "Select distinct(author_id) as id\n",
    "From Views\n",
    "Where viewer_id = author_id\n",
    "Order by author_id;"
   ]
  },
  {
   "cell_type": "markdown",
   "metadata": {},
   "source": [
    "### Recyclable and Low Fat Products\n",
    "\n",
    "Returns product_id column from Products table where values in low_fats and recyclable have 'yes' values."
   ]
  },
  {
   "cell_type": "code",
   "execution_count": null,
   "metadata": {
    "vscode": {
     "languageId": "sql"
    }
   },
   "outputs": [],
   "source": [
    "\n",
    "Select product_id From Products\n",
    "Where low_fats='Y' && recyclable='Y';"
   ]
  }
 ],
 "metadata": {
  "language_info": {
   "name": "python"
  }
 },
 "nbformat": 4,
 "nbformat_minor": 2
}
