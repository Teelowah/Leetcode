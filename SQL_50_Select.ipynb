{
 "cells": [
  {
   "cell_type": "markdown",
   "metadata": {},
   "source": [
    "# SQL 50 Select LeetCode Submissions"
   ]
  },
  {
   "cell_type": "markdown",
   "metadata": {},
   "source": [
    "### Article views\n",
    "\n",
    "Finds rows where author viewed own article, removes duplicates and names it as id\n"
   ]
  },
  {
   "cell_type": "code",
   "execution_count": null,
   "metadata": {
    "vscode": {
     "languageId": "sql"
    }
   },
   "outputs": [],
   "source": [
    "Select distinct(author_id) as id\n",
    "From Views\n",
    "Where viewer_id = author_id\n",
    "Order by author_id;"
   ]
  },
  {
   "cell_type": "markdown",
   "metadata": {},
   "source": [
    "### Recyclable and Low Fat Products\n",
    "\n",
    "Returns product_id column from Products table where values in low_fats and recyclable have 'yes' values."
   ]
  },
  {
   "cell_type": "code",
   "execution_count": null,
   "metadata": {
    "vscode": {
     "languageId": "sql"
    }
   },
   "outputs": [],
   "source": [
    "\n",
    "Select product_id From Products\n",
    "Where low_fats='Y' && recyclable='Y';"
   ]
  },
  {
   "cell_type": "markdown",
   "metadata": {},
   "source": [
    "### Big Countries\n",
    "\n",
    "Returns a table with name, population, and area columns with area greater than 30,0000 or population greater than 2,500,000."
   ]
  },
  {
   "cell_type": "code",
   "execution_count": null,
   "metadata": {
    "vscode": {
     "languageId": "sql"
    }
   },
   "outputs": [],
   "source": [
    "Select name, population, area\n",
    "From World\n",
    "Where (area >= 3000000) or (population >= 25000000);"
   ]
  },
  {
   "cell_type": "markdown",
   "metadata": {},
   "source": [
    "### Find Customer Referee\n",
    "\n",
    "Returns name column where the referee id is not null or equal to 2."
   ]
  },
  {
   "cell_type": "code",
   "execution_count": null,
   "metadata": {
    "vscode": {
     "languageId": "sql"
    }
   },
   "outputs": [],
   "source": [
    "Select name\n",
    "From Customer\n",
    "Where (referee_id is null) or (referee_id != 2);"
   ]
  },
  {
   "cell_type": "markdown",
   "metadata": {},
   "source": [
    "### Invalid Tweets\n",
    "\n",
    "Returns tweet_id column where the tweet length longer than 15 characters. \n",
    "\n",
    "(Utilised char_length('String') function which returns **length of string in characters**. Could also use len('string') which returns **length of string in bytes**)"
   ]
  },
  {
   "cell_type": "code",
   "execution_count": null,
   "metadata": {
    "vscode": {
     "languageId": "sql"
    }
   },
   "outputs": [],
   "source": [
    "Select tweet_id From Tweets\n",
    "Where char_length(content) > 15;"
   ]
  }
 ],
 "metadata": {
  "language_info": {
   "name": "python"
  }
 },
 "nbformat": 4,
 "nbformat_minor": 2
}
